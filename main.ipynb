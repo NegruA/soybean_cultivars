{
 "cells": [
  {
   "cell_type": "code",
   "execution_count": 4,
   "id": "cedf6cab",
   "metadata": {},
   "outputs": [],
   "source": [
    "import pandas as pd"
   ]
  },
  {
   "cell_type": "markdown",
   "id": "46fac3f1",
   "metadata": {},
   "source": [
    "# Import data"
   ]
  },
  {
   "cell_type": "code",
   "execution_count": 7,
   "id": "bf51eee9",
   "metadata": {},
   "outputs": [
    {
     "name": "stdout",
     "output_type": "stream",
     "text": [
      "   Season    Cultivar  Repetition     PH    IFP    NLP     NGP   NGL   NS  \\\n",
      "0       1  NEO 760 CE           1  58.80  15.20   98.2  177.80  1.81  5.2   \n",
      "1       1  NEO 760 CE           2  58.60  13.40  102.0  195.00  1.85  7.2   \n",
      "2       1  NEO 760 CE           3  63.40  17.20  100.4  203.00  2.02  6.8   \n",
      "3       1  NEO 760 CE           4  60.27  15.27  100.2  191.93  1.89  6.4   \n",
      "4       1   MANU IPRO           1  81.20  18.00   98.8  173.00  1.75  7.4   \n",
      "\n",
      "      MHG       GY  \n",
      "0  152.20  3232.82  \n",
      "1  141.69  3517.36  \n",
      "2  148.81  3391.46  \n",
      "3  148.50  3312.58  \n",
      "4  145.59  3230.99  \n"
     ]
    }
   ],
   "source": [
    "import pandas as pd\n",
    "\n",
    "data_path = 'data/data.csv'\n",
    "cultivars_description_path = 'data/cultivars-description.ods'\n",
    "\n",
    "data_df = pd.read_csv(data_path)\n",
    "cultivars_description_df = pd.read_excel(cultivars_description_path, engine='odf')\n",
    "\n",
    "# Afișarea primelor câteva rânduri din DataFrame pentru a verifica conținutul\n",
    "print(data_df.head())\n"
   ]
  },
  {
   "cell_type": "code",
   "execution_count": 10,
   "id": "7d05196b",
   "metadata": {},
   "outputs": [
    {
     "data": {
      "text/html": [
       "<div>\n",
       "<style scoped>\n",
       "    .dataframe tbody tr th:only-of-type {\n",
       "        vertical-align: middle;\n",
       "    }\n",
       "\n",
       "    .dataframe tbody tr th {\n",
       "        vertical-align: top;\n",
       "    }\n",
       "\n",
       "    .dataframe thead th {\n",
       "        text-align: right;\n",
       "    }\n",
       "</style>\n",
       "<table border=\"1\" class=\"dataframe\">\n",
       "  <thead>\n",
       "    <tr style=\"text-align: right;\">\n",
       "      <th></th>\n",
       "      <th>Cultivars</th>\n",
       "      <th>Maturation group</th>\n",
       "      <th>Seeds per meter/linear</th>\n",
       "      <th>Density per meter/linear</th>\n",
       "    </tr>\n",
       "  </thead>\n",
       "  <tbody>\n",
       "    <tr>\n",
       "      <th>0</th>\n",
       "      <td>FTR 3190 IPRO</td>\n",
       "      <td>9.0</td>\n",
       "      <td>12.5</td>\n",
       "      <td>250000</td>\n",
       "    </tr>\n",
       "    <tr>\n",
       "      <th>1</th>\n",
       "      <td>FTR 4288 IPRO</td>\n",
       "      <td>8.8</td>\n",
       "      <td>11.0</td>\n",
       "      <td>220000</td>\n",
       "    </tr>\n",
       "    <tr>\n",
       "      <th>2</th>\n",
       "      <td>NK 8770 IPRO</td>\n",
       "      <td>8.7</td>\n",
       "      <td>16.0</td>\n",
       "      <td>320000</td>\n",
       "    </tr>\n",
       "    <tr>\n",
       "      <th>3</th>\n",
       "      <td>M 8606I2X</td>\n",
       "      <td>8.6</td>\n",
       "      <td>10.0</td>\n",
       "      <td>200000</td>\n",
       "    </tr>\n",
       "    <tr>\n",
       "      <th>4</th>\n",
       "      <td>M 8644 IPRO</td>\n",
       "      <td>8.6</td>\n",
       "      <td>11.0</td>\n",
       "      <td>220000</td>\n",
       "    </tr>\n",
       "  </tbody>\n",
       "</table>\n",
       "</div>"
      ],
      "text/plain": [
       "       Cultivars  Maturation group  Seeds per meter/linear  \\\n",
       "0  FTR 3190 IPRO               9.0                    12.5   \n",
       "1  FTR 4288 IPRO               8.8                    11.0   \n",
       "2   NK 8770 IPRO               8.7                    16.0   \n",
       "3      M 8606I2X               8.6                    10.0   \n",
       "4    M 8644 IPRO               8.6                    11.0   \n",
       "\n",
       "   Density per meter/linear  \n",
       "0                    250000  \n",
       "1                    220000  \n",
       "2                    320000  \n",
       "3                    200000  \n",
       "4                    220000  "
      ]
     },
     "execution_count": 10,
     "metadata": {},
     "output_type": "execute_result"
    }
   ],
   "source": [
    "data_df.head()"
   ]
  },
  {
   "cell_type": "code",
   "execution_count": 11,
   "id": "7d7704ad",
   "metadata": {},
   "outputs": [
    {
     "data": {
      "text/html": [
       "<div>\n",
       "<style scoped>\n",
       "    .dataframe tbody tr th:only-of-type {\n",
       "        vertical-align: middle;\n",
       "    }\n",
       "\n",
       "    .dataframe tbody tr th {\n",
       "        vertical-align: top;\n",
       "    }\n",
       "\n",
       "    .dataframe thead th {\n",
       "        text-align: right;\n",
       "    }\n",
       "</style>\n",
       "<table border=\"1\" class=\"dataframe\">\n",
       "  <thead>\n",
       "    <tr style=\"text-align: right;\">\n",
       "      <th></th>\n",
       "      <th>Cultivars</th>\n",
       "      <th>Maturation group</th>\n",
       "      <th>Seeds per meter/linear</th>\n",
       "      <th>Density per meter/linear</th>\n",
       "    </tr>\n",
       "  </thead>\n",
       "  <tbody>\n",
       "    <tr>\n",
       "      <th>0</th>\n",
       "      <td>FTR 3190 IPRO</td>\n",
       "      <td>9.0</td>\n",
       "      <td>12.5</td>\n",
       "      <td>250000</td>\n",
       "    </tr>\n",
       "    <tr>\n",
       "      <th>1</th>\n",
       "      <td>FTR 4288 IPRO</td>\n",
       "      <td>8.8</td>\n",
       "      <td>11.0</td>\n",
       "      <td>220000</td>\n",
       "    </tr>\n",
       "    <tr>\n",
       "      <th>2</th>\n",
       "      <td>NK 8770 IPRO</td>\n",
       "      <td>8.7</td>\n",
       "      <td>16.0</td>\n",
       "      <td>320000</td>\n",
       "    </tr>\n",
       "    <tr>\n",
       "      <th>3</th>\n",
       "      <td>M 8606I2X</td>\n",
       "      <td>8.6</td>\n",
       "      <td>10.0</td>\n",
       "      <td>200000</td>\n",
       "    </tr>\n",
       "    <tr>\n",
       "      <th>4</th>\n",
       "      <td>M 8644 IPRO</td>\n",
       "      <td>8.6</td>\n",
       "      <td>11.0</td>\n",
       "      <td>220000</td>\n",
       "    </tr>\n",
       "  </tbody>\n",
       "</table>\n",
       "</div>"
      ],
      "text/plain": [
       "       Cultivars  Maturation group  Seeds per meter/linear  \\\n",
       "0  FTR 3190 IPRO               9.0                    12.5   \n",
       "1  FTR 4288 IPRO               8.8                    11.0   \n",
       "2   NK 8770 IPRO               8.7                    16.0   \n",
       "3      M 8606I2X               8.6                    10.0   \n",
       "4    M 8644 IPRO               8.6                    11.0   \n",
       "\n",
       "   Density per meter/linear  \n",
       "0                    250000  \n",
       "1                    220000  \n",
       "2                    320000  \n",
       "3                    200000  \n",
       "4                    220000  "
      ]
     },
     "execution_count": 11,
     "metadata": {},
     "output_type": "execute_result"
    }
   ],
   "source": [
    "cultivars_description_df.head()"
   ]
  },
  {
   "cell_type": "code",
   "execution_count": null,
   "id": "024a64fb",
   "metadata": {},
   "outputs": [],
   "source": []
  }
 ],
 "metadata": {
  "kernelspec": {
   "display_name": "Python 3 (ipykernel)",
   "language": "python",
   "name": "python3"
  },
  "language_info": {
   "codemirror_mode": {
    "name": "ipython",
    "version": 3
   },
   "file_extension": ".py",
   "mimetype": "text/x-python",
   "name": "python",
   "nbconvert_exporter": "python",
   "pygments_lexer": "ipython3",
   "version": "3.11.5"
  }
 },
 "nbformat": 4,
 "nbformat_minor": 5
}
